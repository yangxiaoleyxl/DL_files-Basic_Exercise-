{
 "cells": [
  {
   "cell_type": "code",
   "execution_count": 18,
   "metadata": {
    "ExecuteTime": {
     "end_time": "2018-12-12T08:26:15.409898Z",
     "start_time": "2018-12-12T08:26:15.398956Z"
    }
   },
   "outputs": [],
   "source": [
    "import tensorflow as tf \n",
    "import keras\n",
    "# tf.__version__\n",
    "# keras.__version__\n",
    "import numpy\n",
    "import os\n",
    "\n",
    "t0 = tf.constant([[[1],[0],[123]],[[22340],[40],[76]],[[90],[83],[63]]])\n",
    "t1 = tf.constant([[[109],[0],[123]],[[20],[43120],[76]],[[90],[83],[6323]]])\n",
    "t2 = tf.constant([[[1],[0],[123]],[[23420],[40],[76]],[[90],[832],[63]]])\n",
    "t3 = tf.constant([[[1],[2342],[123]],[[20],[40],[711]],[[9420],[833],[5463]]])"
   ]
  }
 ],
 "metadata": {
  "kernelspec": {
   "display_name": "Python 3",
   "language": "python",
   "name": "python3"
  },
  "language_info": {
   "codemirror_mode": {
    "name": "ipython",
    "version": 3
   },
   "file_extension": ".py",
   "mimetype": "text/x-python",
   "name": "python",
   "nbconvert_exporter": "python",
   "pygments_lexer": "ipython3",
   "version": "3.6.2"
  }
 },
 "nbformat": 4,
 "nbformat_minor": 2
}
